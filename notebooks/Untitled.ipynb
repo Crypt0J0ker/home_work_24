{
 "cells": [
  {
   "cell_type": "code",
   "execution_count": null,
   "id": "b9e670fd-9c8a-4a31-abb2-675b36bbf63a",
   "metadata": {},
   "outputs": [],
   "source": []
  }
 ],
 "metadata": {
  "kernelspec": {
   "display_name": "",
   "name": ""
  },
  "language_info": {
   "name": ""
  }
 },
 "nbformat": 4,
 "nbformat_minor": 5
}
